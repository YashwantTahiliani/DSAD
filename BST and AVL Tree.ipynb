{
 "cells": [
  {
   "cell_type": "code",
   "execution_count": 245,
   "id": "7579d4c0",
   "metadata": {},
   "outputs": [],
   "source": [
    "class BSTNode:\n",
    "    def __init__(self, val, parent = None, child_type = None):\n",
    "        self.val = val\n",
    "        self.left = None\n",
    "        self.right = None\n",
    "        self.parent = parent\n",
    "        self.child_type = child_type\n",
    "        \n",
    "    def insert(self, val):\n",
    "\n",
    "        if self.val:\n",
    "            if val < self.val:\n",
    "                if self.left is None:\n",
    "                    self.left = BSTNode(val, self, 'left')\n",
    "                else:\n",
    "                    self.left.insert(val)\n",
    "            elif val > self.val:\n",
    "                if self.right is None:\n",
    "                    self.right = BSTNode(val, self, 'right')\n",
    "                else:\n",
    "                    self.right.insert(val)\n",
    "        else:\n",
    "            self.val = val\n",
    "            \n",
    "    def find_element(self, val):\n",
    "        if self.val:\n",
    "            if self.val == val:               \n",
    "                return self\n",
    "            elif self.val < val:\n",
    "                if self.right:\n",
    "                    return self.right.find_element(val)\n",
    "                else:\n",
    "                    return None\n",
    "            else:\n",
    "                if self.left:\n",
    "                    return self.left.find_element(val)\n",
    "                else:\n",
    "                    return None\n",
    "        else:\n",
    "            return None\n",
    "    def delete(self, val):\n",
    "        node = self.find_element(val)        \n",
    "        if node:\n",
    "            # case - 1: node is a leaf node\n",
    "            if not node.left and not node.right:\n",
    "                node.del_node()\n",
    "            # case - 2: node has single child\n",
    "            elif not node.left and node.right:                \n",
    "                node.right.short_circuit()\n",
    "                    \n",
    "            elif node.left and not node.right:               \n",
    "                node.left.short_circuit()\n",
    "                #node.del_node()\n",
    "            # case - 3: node has both children\n",
    "            elif node.left and node.right:\n",
    "                successor = self.find_successor()\n",
    "                node.val = successor.val\n",
    "                successor.delete(successor.val)\n",
    "        else:\n",
    "            print(f'element {val} not found in the tree')\n",
    "            \n",
    "    def short_circuit(self):        \n",
    "        if self.parent.child_type == 'right':                    \n",
    "            self.parent.parent.right = self\n",
    "            self.child_type = 'right'\n",
    "        elif self.parent.child_type == 'left':                    \n",
    "            self.parent.parent.left = self\n",
    "            self.child_type = 'left'\n",
    "        self.parent = self.parent.parent\n",
    "                    \n",
    "    def find_successor(self):\n",
    "        if self.right:\n",
    "            return self.right.go_left()\n",
    "        else:\n",
    "            return self\n",
    "    \n",
    "    def go_left(self):\n",
    "        if self.left:\n",
    "            return self.left.go_left()\n",
    "        else:\n",
    "            return self\n",
    "    \n",
    "    def del_node(self):\n",
    "        self.val = None\n",
    "        if self.child_type:\n",
    "            if self.child_type == 'left':\n",
    "                self.parent.left = None\n",
    "            else:\n",
    "                self.parent.right = None\n",
    "        self.parent = None\n",
    "    \n",
    "    def print_tree(self):\n",
    "        lines, *_ = self.display()\n",
    "        for line in lines:\n",
    "            print(line)\n",
    "        \n",
    "    def display(self):\n",
    "        
    "        # No child.\n",
    "        if not self.left and not self.right:\n",
    "            line = str(self.val)\n",
    "            width = len(line)\n",
    "            height = 1\n",
    "            middle = width // 2\n",
    "            return [line], width, height, middle\n",
    "\n",
    "        # Only left child.\n",
    "        elif self.left and not self.right:\n",
    "            lines, n, p, x = self.left.display()\n",
    "            s = str(self.val)\n",
    "            u = len(s)\n",
    "            first_line = (x + 1) * ' ' + (n - x - 1) * '_' + s\n",
    "            second_line = x * ' ' + '/' + (n - x - 1 + u) * ' '\n",
    "            shifted_lines = [line + u * ' ' for line in lines]\n",
    "            return [first_line, second_line] + shifted_lines, n + u, p + 2, n + u // 2\n",
    "\n",
    "        # Only right child.\n",
    "        elif not self.left and self.right:\n",
    "            lines, n, p, x = self.right.display()\n",
    "            s = str(self.val)\n",
    "            u = len(s)\n",
    "            first_line = s + x * '_' + (n - x) * ' '\n",
    "            second_line = (u + x) * ' ' + '\\\\' + (n - x - 1) * ' '\n",
    "            shifted_lines = [u * ' ' + line for line in lines]\n",
    "            return [first_line, second_line] + shifted_lines, n + u, p + 2, u // 2\n",
    "\n",
    "        # Two children.\n",
    "        else:\n",
    "            left, n, p, x = self.left.display()\n",
    "            right, m, q, y = self.right.display()\n",
    "            s = str(self.val)\n",
    "            u = len(s)\n",
    "            first_line = (x + 1) * ' ' + (n - x - 1) * '_' + s + y * '_' + (m - y) * ' '\n",
    "            second_line = x * ' ' + '/' + (n - x - 1 + u + y) * ' ' + '\\\\' + (m - y - 1) * ' '\n",
    "            if p < q:\n",
    "                left += [n * ' '] * (q - p)\n",
    "            elif q < p:\n",
    "                right += [m * ' '] * (p - q)\n",
    "            zipped_lines = zip(left, right)\n",
    "            lines = [first_line, second_line] + [a + u * ' ' + b for a, b in zipped_lines]\n",
    "            return lines, n + m + u, max(p, q) + 2, n + u // 2\n",
    "           \n",
    "            \n",
    "\n"
   ]
  },
  {
   "cell_type": "code",
   "execution_count": 253,
   "id": "66ac7214",
   "metadata": {},
   "outputs": [],
   "source": [
    "rt = BSTNode(5)\n",
    "\n",
    "rt.insert(10)\n",
    "rt.insert(4)\n",
    "rt.insert(2)\n",
    "rt.insert(3)\n",
    "rt.insert(8)\n",
    "rt.insert(13)\n",
    "rt.insert(9)"
   ]
  },
  {
   "cell_type": "code",
   "execution_count": 254,
   "id": "11d0e5ff",
   "metadata": {},
   "outputs": [
    {
     "name": "stdout",
     "output_type": "stream",
     "text": [
      "   5___   \n",
      "  /    \\  \n",
      " _4  _10_ \n",
      "/   /    \\\n",
      "2   8   13\n",
      " \\   \\    \n",
      " 3   9    \n"
     ]
    }
   ],
   "source": [
    "rt.print_tree()"
   ]
  },
  {
   "cell_type": "code",
   "execution_count": 255,
   "id": "beee439e",
   "metadata": {},
   "outputs": [],
   "source": [
    "rt.delete(5)"
   ]
  },
  {
   "cell_type": "code",
   "execution_count": 256,
   "id": "db56312f",
   "metadata": {},
   "outputs": [
    {
     "name": "stdout",
     "output_type": "stream",
     "text": [
      "   8__   \n",
      "  /   \\  \n",
      " _4  10_ \n",
      "/   /   \\\n",
      "2   9  13\n",
      " \\       \n",
      " 3       \n"
     ]
    }
   ],
   "source": [
    "rt.print_tree()"
   ]
  },
  {
   "cell_type": "code",
   "execution_count": 257,
   "id": "a547acd2",
   "metadata": {},
   "outputs": [],
   "source": [
    "rt.delete(13)"
   ]
  },
  {
   "cell_type": "code",
   "execution_count": 258,
   "id": "04cf3e75",
   "metadata": {},
   "outputs": [
    {
     "name": "stdout",
     "output_type": "stream",
     "text": [
      "   8__ \n",
      "  /   \\\n",
      " _4  10\n",
      "/   /  \n",
      "2   9  \n",
      " \\     \n",
      " 3     \n"
     ]
    }
   ],
   "source": [
    "rt.print_tree()"
   ]
  },
  {
   "cell_type": "code",
   "execution_count": 259,
   "id": "9fded344",
   "metadata": {},
   "outputs": [],
   "source": [
    "rt.delete(2)"
   ]
  },
  {
   "cell_type": "code",
   "execution_count": 260,
   "id": "607742c8",
   "metadata": {},
   "outputs": [
    {
     "name": "stdout",
     "output_type": "stream",
     "text": [
      "  8__ \n",
      " /   \\\n",
      " 4  10\n",
      "/  /  \n",
      "3  9  \n"
     ]
    }
   ],
   "source": [
    "rt.print_tree()"
   ]
  },
  {
   "cell_type": "code",
   "execution_count": 261,
   "id": "da495d9b",
   "metadata": {},
   "outputs": [],
   "source": [
    "rt.delete(8)"
   ]
  },
  {
   "cell_type": "code",
   "execution_count": 262,
   "id": "7444291c",
   "metadata": {},
   "outputs": [
    {
     "name": "stdout",
     "output_type": "stream",
     "text": [
      "  9_ \n",
      " /  \\\n",
      " 4 10\n",
      "/    \n",
      "3    \n"
     ]
    }
   ],
   "source": [
    "rt.print_tree()"
   ]
  },
  {
   "cell_type": "code",
   "execution_count": 263,
   "id": "25b60789",
   "metadata": {},
   "outputs": [
    {
     "name": "stdout",
     "output_type": "stream",
     "text": [
      "  10\n",
      " /  \n",
      " 4  \n",
      "/   \n",
      "3   \n"
     ]
    }
   ],
   "source": [
    "rt.delete(9)\n",
    "print_tree(rt)"
   ]
  },
  {
   "cell_type": "code",
   "execution_count": 264,
   "id": "cdc81caa",
   "metadata": {},
   "outputs": [
    {
     "name": "stdout",
     "output_type": "stream",
     "text": [
      " 10\n",
      "/  \n",
      "4  \n"
     ]
    }
   ],
   "source": [
    "rt.delete(3)\n",
    "rt.print_tree()"
   ]
  },
  {
   "cell_type": "code",
   "execution_count": 265,
   "id": "390ba587",
   "metadata": {},
   "outputs": [
    {
     "name": "stdout",
     "output_type": "stream",
     "text": [
      "10\n"
     ]
    }
   ],
   "source": [
    "rt.delete(4)\n",
    "rt.print_tree()"
   ]
  },
  {
   "cell_type": "code",
   "execution_count": 266,
   "id": "eb2646b7",
   "metadata": {},
   "outputs": [
    {
     "name": "stdout",
     "output_type": "stream",
     "text": [
      "None\n"
     ]
    }
   ],
   "source": [
    "rt.delete(10)\n",
    "rt.print_tree()"
   ]
  },
  {
   "cell_type": "code",
   "execution_count": null,
   "id": "11ea79f1",
   "metadata": {},
   "outputs": [],
   "source": []
  },
  {
   "cell_type": "code",
   "execution_count": null,
   "id": "15b8e0d3",
   "metadata": {},
   "outputs": [],
   "source": []
  }
 ],
 "metadata": {
  "kernelspec": {
   "display_name": "Python 3 (ipykernel)",
   "language": "python",
   "name": "python3"
  },
  "language_info": {
   "codemirror_mode": {
    "name": "ipython",
    "version": 3
   },
   "file_extension": ".py",
   "mimetype": "text/x-python",
   "name": "python",
   "nbconvert_exporter": "python",
   "pygments_lexer": "ipython3",
   "version": "3.7.6"
  }
 },
 "nbformat": 4,
 "nbformat_minor": 5
}
